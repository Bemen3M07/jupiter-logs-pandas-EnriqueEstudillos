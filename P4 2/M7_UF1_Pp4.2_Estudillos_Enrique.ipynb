{
 "cells": [
  {
   "cell_type": "markdown",
   "id": "fb51372f-aa79-4814-b128-2cffa844df68",
   "metadata": {},
   "source": [
    "# Exercici 1"
   ]
  },
  {
   "cell_type": "markdown",
   "id": "e8b4960f-692f-4c5c-8098-7b03f5096094",
   "metadata": {},
   "source": [
    "## Explica quines comandes de Linux Pots fer servir a l’hora d’analitzar logs escrits a fitxer per a:\n",
    "\n",
    "## Veure contínuament els logs que es van escrivint a un arxiu\n",
    "\n",
    "### Podemos utilizar el comando **\"tail\"**, de esta manera **\"tail -f archivo.log\"**\n",
    "\n",
    "## Cercar una paraula concreta dintre d’un arxiu de log\n",
    "\n",
    "### Podemos utilizar el comando **\"grep\"**, de esta manera **\"grep \"palabra\" archivo.log\"**"
   ]
  },
  {
   "cell_type": "markdown",
   "id": "bd217a3c-fbef-4f61-9901-f35e4a4c08f0",
   "metadata": {},
   "source": [
    "# Exercici 2"
   ]
  },
  {
   "cell_type": "markdown",
   "id": "a8896655-6c69-4178-b835-c3de25ebc8a8",
   "metadata": {},
   "source": [
    "### El concepte logging és molt important en la programació, alhora que està estrictament relacionat amb el tema que estem treballant. Un log en el nostre àmbit vindria a ser un fitxer que conté dades relacionades amb els principals esdeveniments i successos que ocorren en un programa o en un sistema operatiu, així doncs, ja sigui per saber en quin punt hem tingut un error, perquè l'execució del programa no ha anat bé, o quina sèrie de passes ha seguit una persona mentre utilitzava la nostra aplicació i moltes altres utilitats, els Logs són vitals al món del software."
   ]
  },
  {
   "cell_type": "markdown",
   "id": "e5bdde5d-e295-4747-ab6c-d1156113833e",
   "metadata": {},
   "source": [
    "## 2.1 \n",
    "### En aquest exercici recuperarem el bucle d’exemple que vam fer servir a les sessions de teoria, i configurarem el log per què  els misstatges d’error (isuperiors) vagin a un arxiu, i els missatges d’info (i superiors) vagin a un altre arxiu, mentre que tots els missatges es mostren a la vegada per pantalla. A més, afegirem un nou missatge d’info a l’aplicació  pel que farem servir un logger especial i diferent del que ja hem fet servir, i que tindrà un manegador amb format csv.  Fes commit al repositori cada vegada que tinguis resolt i funcionant una d’aquestes coses:\n",
    "\n",
    "### · logs d’info a fitxer de logs d’info i logs d’error a fitxer de logs d’error"
   ]
  },
  {
   "cell_type": "code",
   "execution_count": 10,
   "id": "b8671a7f-72c5-4597-bc18-e39729d9893e",
   "metadata": {},
   "outputs": [
    {
     "name": "stderr",
     "output_type": "stream",
     "text": [
      "2024-11-29 17:48:45,905 - INFO - Això és un missatge d'info\n",
      "2024-11-29 17:48:45,906 - ERROR - Això és un missatge d'error\n"
     ]
    }
   ],
   "source": [
    "import logging\n",
    "\n",
    "# Configuració dels loggers\n",
    "logger = logging.getLogger(\"main_logger\")\n",
    "logger.setLevel(logging.DEBUG)  # Nivell base\n",
    "\n",
    "# Handler per a missatges d'INFO i superiors\n",
    "info_handler = logging.FileHandler(\"info.log\")\n",
    "info_handler.setLevel(logging.INFO)\n",
    "info_formatter = logging.Formatter(\"%(asctime)s - %(levelname)s - %(message)s\")\n",
    "info_handler.setFormatter(info_formatter)\n",
    "\n",
    "# Handler per a missatges d'ERROR i superiors\n",
    "error_handler = logging.FileHandler(\"error.log\")\n",
    "error_handler.setLevel(logging.ERROR)\n",
    "error_formatter = logging.Formatter(\"%(asctime)s - %(levelname)s - %(message)s\")\n",
    "error_handler.setFormatter(error_formatter)\n",
    "\n",
    "# Afegir els handlers al logger\n",
    "logger.addHandler(info_handler)\n",
    "logger.addHandler(error_handler)\n",
    "\n",
    "# Exemple de logs\n",
    "logger.info(\"Això és un missatge d'info\")\n",
    "logger.error(\"Això és un missatge d'error\")"
   ]
  },
  {
   "cell_type": "markdown",
   "id": "957bd17e-9e9b-4ff9-8ac9-943699b9e3cc",
   "metadata": {},
   "source": [
    "### · Afegir, a mes del handler de fitxer per a fitxers info, un handler de pantalla amb nivell info"
   ]
  },
  {
   "cell_type": "code",
   "execution_count": 11,
   "id": "6d487ac6-fe0a-4114-be71-7d4f58f74ef8",
   "metadata": {},
   "outputs": [
    {
     "name": "stderr",
     "output_type": "stream",
     "text": [
      "2024-11-29 17:48:47,746 - INFO - Aquest missatge es mostra per pantalla i s'escriu al fitxer info.log\n",
      "2024-11-29 17:48:47,746 - INFO - Aquest missatge es mostra per pantalla i s'escriu al fitxer info.log\n"
     ]
    }
   ],
   "source": [
    "# Handler per a mostrar els logs per pantalla\n",
    "console_handler = logging.StreamHandler()\n",
    "console_handler.setLevel(logging.INFO)\n",
    "console_handler.setFormatter(info_formatter)\n",
    "\n",
    "# Afegir el handler de pantalla al logger\n",
    "logger.addHandler(console_handler)\n",
    "\n",
    "# Exemple de logs\n",
    "logger.info(\"Aquest missatge es mostra per pantalla i s'escriu al fitxer info.log\")"
   ]
  },
  {
   "cell_type": "markdown",
   "id": "84381c5e-911a-40b8-9611-db373864c711",
   "metadata": {},
   "source": [
    "### · Afegir un nou logger amb un nou manegador i un nou formatador a CSV, i afegir una línia al programa que generi aquests logs"
   ]
  },
  {
   "cell_type": "code",
   "execution_count": 21,
   "id": "64736e76-2a74-442b-99ce-d3f848ba0fcc",
   "metadata": {},
   "outputs": [],
   "source": [
    "import csv\n",
    "import logging\n",
    "\n",
    "# Configuració del nou logger\n",
    "csv_logger = logging.getLogger(\"csv_logger\")\n",
    "csv_logger.setLevel(logging.INFO)\n",
    "\n",
    "# Handler per a escriure logs en format CSV\n",
    "csv_handler = logging.FileHandler(\"log.csv\")\n",
    "csv_handler.setLevel(logging.INFO)\n",
    "\n",
    "# Formatador personalitzat en CSV\n",
    "csv_formatter = logging.Formatter(\"%(asctime)s, %(levelname)s, %(message)s\")\n",
    "csv_handler.setFormatter(csv_formatter)\n",
    "\n",
    "# Afegir el handler al nou logger\n",
    "csv_logger.addHandler(csv_handler)\n",
    "\n",
    "# Exemple de logs\n",
    "csv_logger.info(\"Missatge d'info especial en format CSV\")"
   ]
  },
  {
   "cell_type": "markdown",
   "id": "e438bdc8-df30-4396-9ab9-1f7d0706bc74",
   "metadata": {},
   "source": [
    "### · Pujar al repositori una mostra d’unes 20 linies dels fitxers de logs generats per la vostra aplicació: un d’info, un d’error, i un en format CSV\n",
    "\n",
    "Dentro de esta misma ruta tenemos los archivos **\"error.log\"**, **\"info.log\"** y **\"log.csv\"**\n",
    "\n",
    "## 2.2\n",
    "### Que creieu que és millor mostrar els logs per exemple a la terminal durant l'execució del programa o bolcar-los en un fitxer de text?  Afegiu al readme.md del repositori aquesta pregunta amb la seva reposta\n",
    "\n",
    "Es **mejor combinar ambas estrategias** dependiendo del objetivo:\n",
    "\n",
    "**Logs en la terminal**: Son útiles durante el desarrollo o monitorización en tiempo real para detectar rápidamente errores y comportamientos inesperados.\n",
    "\n",
    "**Logs en archivos**: Son esenciales para mantener un registro histórico de los eventos, especialmente para diagnósticos posteriores, auditorías o supervisión automática.\n",
    "\n",
    "En entornos de producción, es recomendable guardar siempre los logs en archivos y, opcionalmente, utilizar herramientas como tail para monitorizarlos en tiempo real.\n",
    "\n",
    "## 2.3\n",
    "### Omple la següent taula amb expmple, avantantges, i desavantatges de les següents maneres de fer logs: (inclou-la al readme.md)\n",
    "\n",
    "<table style=\"width:100%; border: 1px solid black; border-collapse: collapse; background-color: white;\">\n",
    "  <tr>\n",
    "    <th style=\"width:15%; border: 1px solid black;\"></th>\n",
    "    <th style=\"width:15%; border: 1px solid black;\">Exemple</th>\n",
    "    <th style=\"width:30%; border: 1px solid black;\">Avantatges</th>\n",
    "    <th style=\"width:30%; border: 1px solid black;\">Desavantatges</th>\n",
    "  </tr>\n",
    "  <tr>\n",
    "    <td style=\"border: 1px solid black; word-wrap: break-word;\">Fent servir la configuració per defecgte del mòdul logging</td>\n",
    "    <td style=\"border: 1px solid black; word-wrap: break-word;\">Ejemplo 1</td>\n",
    "    <td style=\"border: 1px solid black; word-wrap: break-word;\">Ràpid i senzill, ideal per a projectes petits o temporals.</td>\n",
    "    <td style=\"border: 1px solid black; word-wrap: break-word;\">No escalable, ja que no permet configuracions avançades (com logs en diferents fitxers o nivells per handlers).</td>\n",
    "    \n",
    "  </tr>\n",
    "  <tr>\n",
    "    <td style=\"border: 1px solid black; word-wrap: break-word;\">Instanciant un objecte logger i parametritzantlo des de programa</td>\n",
    "    <td style=\"border: 1px solid black; word-wrap: break-word;\">Ejemplo 2</td>\n",
    "    <td style=\"border: 1px solid black; word-wrap: break-word;\">Gran flexibilitat per configurar handlers i formats dins del codi.</td>\n",
    "    <td style=\"border: 1px solid black; word-wrap: break-word;\">La configuració al codi pot ser difícil de mantenir o reutilitzar en diferents entorns.</td>\n",
    "  </tr>\n",
    "  <tr>\n",
    "    <td style=\"border: 1px solid black; word-wrap: break-word;\">Instanciant un objecte logger a partir d’una configuració emmagatzemada a fitxer</td>\n",
    "    <td style=\"border: 1px solid black; word-wrap: break-word;\">Ejemplo 3</td>\n",
    "    <td style=\"border: 1px solid black; word-wrap: break-word;\">Ideal per a projectes grans on es requereix flexibilitat i escalabilitat; fàcil de modificar sense tocar el codi font.</td>\n",
    "    <td style=\"border: 1px solid black; word-wrap: break-word;\">Requereix fitxers addicionals i una bona documentació per gestionar les configuracions externes.\n",
    "</td>\n",
    "  </tr>\n",
    "</table>"
   ]
  },
  {
   "cell_type": "markdown",
   "id": "48d68cfb-1274-4f72-8bab-e9b76c53408d",
   "metadata": {},
   "source": [
    "# Ejemplo 1"
   ]
  },
  {
   "cell_type": "code",
   "execution_count": 2,
   "id": "83bd4e89-7c46-4921-8990-676af1f4456f",
   "metadata": {},
   "outputs": [
    {
     "name": "stderr",
     "output_type": "stream",
     "text": [
      "WARNING:root:Missatge de prova\n"
     ]
    }
   ],
   "source": [
    "#Ejemplo 1\n",
    "\n",
    "import logging\n",
    "logging.warning('Missatge de prova')"
   ]
  },
  {
   "cell_type": "markdown",
   "id": "10a90a04-ef74-4647-bb3c-bca6ba660a0b",
   "metadata": {},
   "source": [
    "# Ejemplo 2"
   ]
  },
  {
   "cell_type": "code",
   "execution_count": 3,
   "id": "f22608ef-dc84-443b-b8d2-c960a3f09b32",
   "metadata": {},
   "outputs": [
    {
     "name": "stderr",
     "output_type": "stream",
     "text": [
      "INFO:app_logger:Missatge d'info\n"
     ]
    }
   ],
   "source": [
    "import logging\n",
    "logger = logging.getLogger('app_logger')\n",
    "logger.setLevel(logging.INFO)\n",
    "file_handler = logging.FileHandler('app.log')\n",
    "formatter = logging.Formatter('%(asctime)s - %(levelname)s - %(message)s')\n",
    "file_handler.setFormatter(formatter)\n",
    "logger.addHandler(file_handler)\n",
    "logger.info('Missatge d\\'info')"
   ]
  },
  {
   "cell_type": "markdown",
   "id": "1e8e2a24-b1ab-4322-9203-6156bf9d84cc",
   "metadata": {},
   "source": [
    "# Ejemplo 3"
   ]
  },
  {
   "cell_type": "code",
   "execution_count": 5,
   "id": "9009a45e-9d4c-4d28-9707-3bc3496b5524",
   "metadata": {},
   "outputs": [
    {
     "name": "stderr",
     "output_type": "stream",
     "text": [
      "INFO:app_logger:Missatge configurat des de JSON\n"
     ]
    }
   ],
   "source": [
    "import logging\n",
    "import logging.config\n",
    "import json\n",
    "\n",
    "with open('logging_config.json', 'r') as f:\n",
    "    config = json.load(f)\n",
    "\n",
    "logging.config.dictConfig(config)\n",
    "logger = logging.getLogger('app_logger')\n",
    "logger.info('Missatge configurat des de JSON')"
   ]
  },
  {
   "cell_type": "markdown",
   "id": "a908126e-e985-47f1-ad9a-f89788a173df",
   "metadata": {},
   "source": [
    "## 2.4\n",
    "### Cerca llibreries de logs en altres llenguatjes (al menys 2, i identifica cóm resolen les següents característiques típiques d’un sistema de logging.  Omple la següent taula, i inclou-la al read-me del repositori:\n",
    "\n",
    "<table style=\"width:100%; border: 1px solid black; border-collapse: collapse; background-color: white;\">\n",
    "  <tr>\n",
    "    <th style=\"width:10%; border: 1px solid black;\"></th>\n",
    "    <th style=\"width:25%; border: 1px solid black;\">Node.js (Winston)</th>\n",
    "    <th style=\"width:25%; border: 1px solid black;\">Go (Slog)</th>\n",
    "  </tr>\n",
    "  <tr>\n",
    "    <td style=\"border: 1px solid black; word-wrap: break-word;\">Llenguatge</td>\n",
    "    <td style=\"border: 1px solid black; word-wrap: break-word;\">JavaScript (Node.js)</td>\n",
    "    <td style=\"border: 1px solid black; word-wrap: break-word;\">Go</td>\n",
    "  </tr>\n",
    "  <tr>\n",
    "    <td style=\"border: 1px solid black; word-wrap: break-word;\">Nom de la llibreria</td>\n",
    "    <td style=\"border: 1px solid black; word-wrap: break-word;\">Winston</td>\n",
    "    <td style=\"border: 1px solid black; word-wrap: break-word;\">Slog</td>\n",
    "  </tr>\n",
    "  <tr>\n",
    "    <td style=\"border: 1px solid black; word-wrap: break-word;\">És nativa del llenguatge?</td>\n",
    "    <td style=\"border: 1px solid black; word-wrap: break-word;\">No</td>\n",
    "    <td style=\"border: 1px solid black; word-wrap: break-word;\">Sí (a partir de Go 1.21)</td>\n",
    "  </tr>\n",
    "  <tr>\n",
    "    <td style=\"border: 1px solid black; word-wrap: break-word;\">URL per descarregar-se la llibreria</td>\n",
    "    <td style=\"border: 1px solid black; word-wrap: break-word;\">[Winston on npm](https://www.npmjs.com/package/winston)</td>\n",
    "    <td style=\"border: 1px solid black; word-wrap: break-word;\">[Slog on GoDoc](https://pkg.go.dev/log/slog)</td>\n",
    "  </tr>\n",
    "  <tr>\n",
    "    <td style=\"border: 1px solid black; word-wrap: break-word;\">Inicialització de l’objecte de logger</td>\n",
    "    <td style=\"border: 1px solid black; word-wrap: break-word;\">`const logger = winston.createLogger({ level: 'info', transports: [new winston.transports.Console()] });`</td>\n",
    "    <td style=\"border: 1px solid black; word-wrap: break-word;\">`logger := slog.New(slog.NewJSONHandler(os.Stdout, nil))`</td>\n",
    "  </tr>\n",
    "  <tr>\n",
    "    <td style=\"border: 1px solid black; word-wrap: break-word;\">Nivells de log disponibles</td>\n",
    "    <td style=\"border: 1px solid black; word-wrap: break-word;\">error, warn, info, debug, verbose, http, silly</td>\n",
    "    <td style=\"border: 1px solid black; word-wrap: break-word;\">debug, info, warn, error</td>\n",
    "  </tr>\n",
    "  <tr>\n",
    "    <td style=\"border: 1px solid black; word-wrap: break-word;\">Mètode per fer log</td>\n",
    "    <td style=\"border: 1px solid black; word-wrap: break-word;\">`logger.info('Message')`</td>\n",
    "    <td style=\"border: 1px solid black; word-wrap: break-word;\">`logger.Info(\"Message\")`</td>\n",
    "  </tr>\n",
    "  <tr>\n",
    "    <td style=\"border: 1px solid black; word-wrap: break-word;\">Tipus de manegadors (pantalla, fitxer…) Identificar els seus noms a la API</td>\n",
    "    <td style=\"border: 1px solid black; word-wrap: break-word;\">Console, File, HTTP</td>\n",
    "    <td style=\"border: 1px solid black; word-wrap: break-word;\">TextHandler, JSONHandler</td>\n",
    "  </tr>\n",
    "  <tr>\n",
    "    <td style=\"border: 1px solid black; word-wrap: break-word;\">Opcions de format</td>\n",
    "    <td style=\"border: 1px solid black; word-wrap: break-word;\">Format JSON, Format simple, Custom formats</td>\n",
    "    <td style=\"border: 1px solid black; word-wrap: break-word;\">JSON, Logfmt, Custom formats</td>\n",
    "  </tr>\n",
    "</table>"
   ]
  },
  {
   "cell_type": "markdown",
   "id": "8dab281e-a32b-46c2-8116-6d7c115dbb10",
   "metadata": {},
   "source": [
    "# Exercici 3"
   ]
  },
  {
   "cell_type": "markdown",
   "id": "ed9238bf-32fd-4c31-b4df-ba8802a550da",
   "metadata": {},
   "source": [
    "## Mitjançant les eines proposades a continuació, voldríem elaborar una petita aplicació que permetés a un treballador de forma senzilla introduir mitjançant un fitxer json, txt csv o similar introduir unes dades que escollim i li elaborem una sèrie de gràfiques."
   ]
  },
  {
   "cell_type": "markdown",
   "id": "edd94593-e912-4eff-afb3-abc941921b94",
   "metadata": {},
   "source": [
    "## Abans d’això, caldrà informar-se sobre les següents eines, alguna de les quals potser ja coneixeu.\n",
    "\n",
    "## Pandas\n",
    "\n",
    "Pandas es una **librería de Python** muy utilizada para el trabajo con datos, especialmente cuando se trata de datos tabulares. Esta librería **facilita la manipulación y el análisis de datos, con estructuras como DataFrames** que permiten cargar datos de **archivos CSV, Excel, JSON**, etc., y manipularlos de forma muy eficiente.\n",
    "\n",
    "### Funcionalidad:\n",
    "\n",
    "**Lectura y escritura de archivos**: Pandas permite leer archivos CSV, JSON, Excel y muchos otros formatos. Esto nos permite cargar datos de forma fácil y rápida en la aplicación.\n",
    "\n",
    "**Manipulación de datos**: Permite filtrar, ordenar, agrupar y transformar los datos.\n",
    "\n",
    "**Cálculos y agregaciones**: Puedes calcular medias, sumas, máximos, mínimos y otras operaciones matemáticas en los datos.\n",
    "\n",
    "**Gestión de valores nulos**: Tiene funcionalidades para gestionar valores perdidos o nulos en los datos.\n",
    "\n",
    "## Ejemplo\n"
   ]
  },
  {
   "cell_type": "code",
   "execution_count": 2,
   "id": "b03f8d3b-7cba-400d-abce-4ae443a811e9",
   "metadata": {},
   "outputs": [
    {
     "name": "stdout",
     "output_type": "stream",
     "text": [
      "   2024-11-29 17:48:05  427   INFO   Missatge d'info especial en format CSV\n",
      "0  2024-11-29 17:49:00  908   INFO   Missatge d'info especial en format CSV\n",
      "1  2024-11-29 17:49:00  908   INFO   Missatge d'info especial en format CSV\n",
      "2  2024-11-29 17:49:18  479   INFO   Missatge d'info especial en format CSV\n",
      "3  2024-11-29 17:49:18  479   INFO   Missatge d'info especial en format CSV\n",
      "4  2024-11-29 17:49:18  479   INFO   Missatge d'info especial en format CSV\n"
     ]
    }
   ],
   "source": [
    "import pandas as pd\n",
    "\n",
    "# Llegim un fitxer CSV\n",
    "df = pd.read_csv('log.csv')\n",
    "\n",
    "# Visualitzem les primeres 5 files\n",
    "print(df.head())"
   ]
  },
  {
   "cell_type": "markdown",
   "id": "4166d3b8-c0fa-457a-abca-92d1ce2f8581",
   "metadata": {},
   "source": [
    "Esta herramienta será fundamental para leer los datos de los archivos introducidos por el trabajador y para prepararlos antes de generar los gráficos.\n",
    "\n",
    "## Jupyter Notebook\n",
    "\n",
    "Jupyter Notebook es una **herramienta de código abierto** que permite **crear documentos interactivos con código ejecutable**, visualizaciones y texto. Es muy utilizada para el **análisis de datos**, puesto que permite **combinar código Python con notas y gráficas en un mismo entorno**.\n",
    "\n",
    "## Funcionalidad:\n",
    "\n",
    "**Ejecución interactiva de código**: Permite escribir y ejecutar código Python dentro del mismo documento.\n",
    "\n",
    "**Visualización de gráficas**: Es compatible con bibliotecas como Matplotlib, Seaborn y Plotly, que se pueden utilizar para generar gráficas en tiempo real.\n",
    "\n",
    "**Documentación**: Permite escribir explicaciones, describir los pasos realizados y añadir capturas de pantalla para documentar el trabajo realizado.\n",
    "\n",
    "## Ejemplo"
   ]
  },
  {
   "cell_type": "code",
   "execution_count": 3,
   "id": "a52eabc9-2eb6-420c-921b-f21562ac34b9",
   "metadata": {},
   "outputs": [
    {
     "data": {
      "image/png": "[encoded data removed]",
      "text/plain": [
       "<Figure size 640x480 with 1 Axes>"
      ]
     },
     "metadata": {},
     "output_type": "display_data"
    }
   ],
   "source": [
    "import matplotlib.pyplot as plt\n",
    "\n",
    "# Generem una gràfica simple\n",
    "plt.plot([1, 2, 3, 4], [10, 20, 25, 30])\n",
    "plt.xlabel('X')\n",
    "plt.ylabel('Y')\n",
    "plt.title('Gràfica d\\'exemple')\n",
    "plt.show()"
   ]
  },
  {
   "cell_type": "markdown",
   "id": "5f5f9616-fd9a-42e4-a2ac-758be3f588c1",
   "metadata": {},
   "source": [
    "Este entorno será útil para probar la aplicación y ver las gráficas generadas de forma visual e interactiva.\n",
    "\n",
    "## Reportlab\n",
    "\n",
    "ReportLab es una **librería de Python** para **generar documentos en formato PDF de forma programática**. Esta herramienta puede ser útil para g**enerar informes finales con los gráficos y datos procesados**, así como para **guardar y exportar los resultados de la aplicación** en un formato documentable.\n",
    "\n",
    "## Funcionalidad:\n",
    "\n",
    "**Generación de PDFs**: Permite crear documentos PDF desde cero con texto, gráficas e imágenes.\n",
    "\n",
    "**Personalización**: Puedes personalizar completamente el aspecto del PDF, como la tipografía, los tamaños de las celdas, las tablas, e incluir gráficas generadas \n",
    "previamente con otras bibliotecas.\n",
    "\n",
    "**Integración con otras bibliotecas**: Se puede integrar fácilmente con Pandas y Matplotlib para incluir datos y gráficas generadas en los informes PDF.\n",
    "\n",
    "## Ejemplo "
   ]
  },
  {
   "cell_type": "code",
   "execution_count": 5,
   "id": "fb78171f-eea6-4c52-8a0d-4f2ce64139cb",
   "metadata": {},
   "outputs": [],
   "source": [
    "from reportlab.lib.pagesizes import letter\n",
    "from reportlab.pdfgen import canvas\n",
    "\n",
    "# Creem un fitxer PDF\n",
    "c = canvas.Canvas(\"informe.pdf\", pagesize=letter)\n",
    "c.drawString(100, 750, \"Informe de Dades\")\n",
    "c.save()"
   ]
  },
  {
   "cell_type": "markdown",
   "id": "88387442-00e8-4d15-a856-3a7ad74a27eb",
   "metadata": {},
   "source": [
    "Esta herramienta será útil para generar informes en PDF con las gráficas de la aplicación, de modo que el trabajador pueda exportar sus resultados de forma formal y profesional.\n",
    "\n",
    "## Conclusion\n",
    "\n",
    "### Entrada de datos: Utilizaremos Pandas para leer los archivos de datos (CSV, JSON, TXT, etc.) introducidos por el trabajador.\n",
    "\n",
    "### Análisis y manipulación de datos: Con Pandas, realizaremos los cálculos necesarios y la manipulación de los datos para prepararlos para su visualización.\n",
    "\n",
    "### Generación de gráficas: Utilizaremos Matplotlib o Seaborn dentro de Jupyter Notebook para generar gráficas interactivas.\n",
    "\n",
    "### Generación de informes: Con ReportLab, generaremos los informes en formato PDF con los datos y gráficas generadas.\n",
    "\n",
    "### Este conjunto de herramientas nos permitirá crear una aplicación eficaz para el trabajador que le permita gestionar y visualizar los datos de forma sencilla y efectiva."
   ]
  },
  {
   "cell_type": "markdown",
   "id": "c017ccf4-0a26-47b6-8ba1-b9e513b004bc",
   "metadata": {},
   "source": [
    "# Ejercicio 4\n",
    "\n",
    "## En aquest exercici caldrà generar per exemple un CSV amb les dades que treballareu. RECORDAR que el CSV treballa amb comes.\n",
    "\n",
    "## Restricciones: Minimo 20 personas (registros) con 5 columnas de datos"
   ]
  },
  {
   "cell_type": "code",
   "execution_count": 8,
   "id": "29e83d80-6e7b-4b0e-afc0-5309150084c1",
   "metadata": {},
   "outputs": [
    {
     "name": "stdout",
     "output_type": "stream",
     "text": [
      "                   Nom  Edat     Ciutat             Correu electrònic  \\\n",
      "0           Joan Pérez    30  Barcelona          joan.perez@email.com   \n",
      "1          Anna Garcia    25     Madrid         anna.garcia@email.com   \n",
      "2           Marc López    40   València          marc.lopez@email.com   \n",
      "3        Marta Sánchez    35    Sevilla       marta.sanchez@email.com   \n",
      "4          Lluís Costa    50     Girona         lluis.costa@email.com   \n",
      "5           Laura Ruiz    28     Lleida          laura.ruiz@email.com   \n",
      "6             Pau Vila    22  Tarragona            pau.vila@email.com   \n",
      "7          Carla Gómez    33  Barcelona         carla.gomez@email.com   \n",
      "8      Jordi Fernández    44     Madrid     jordi.fernandez@email.com   \n",
      "9         Sofia Martín    29   València        sofia.martin@email.com   \n",
      "10         Xavier Ruiz    37     Lleida         xavier.ruiz@email.com   \n",
      "11        Teresa Pérez    31    Sevilla        teresa.perez@email.com   \n",
      "12       Diego Sánchez    45     Girona       diego.sanchez@email.com   \n",
      "13       Sandra Moreno    23  Barcelona       sandra.moreno@email.com   \n",
      "14          Raúl López    32  Tarragona          raul.lopez@email.com   \n",
      "15          Julia Ruiz    34     Lleida          julia.ruiz@email.com   \n",
      "16         Enric Soler    38     Madrid         enric.soler@email.com   \n",
      "17        Clara García    26   València        clara.garcia@email.com   \n",
      "18         Miquel Vila    41     Girona         miquel.vila@email.com   \n",
      "19  Enrique Estudillos    20  Barcelona  enrique.estudillos@email.com   \n",
      "\n",
      "   Data de naixement    Telèfon  \n",
      "0         1994-06-12  678123456  \n",
      "1         1999-02-20  634567890  \n",
      "2         1984-03-15  612345678  \n",
      "3         1989-11-10  650987654  \n",
      "4         1974-08-05  666112233  \n",
      "5         1996-01-01  612344455  \n",
      "6         2002-04-18  609876543  \n",
      "7         1991-12-05  623456789  \n",
      "8         1980-07-30  647812345  \n",
      "9         1995-09-22  673456781  \n",
      "10        1987-03-09  615678912  \n",
      "11        1993-06-25  677123456  \n",
      "12        1979-01-17  635478912  \n",
      "13        2001-05-12  666345678  \n",
      "14        1992-02-23  640123456  \n",
      "15        1990-09-12  623123456  \n",
      "16        1986-08-20  612987654  \n",
      "17        1998-03-14  678765432  \n",
      "18        1983-11-30  622345678  \n",
      "19        2004-10-18  637050571  \n"
     ]
    }
   ],
   "source": [
    "import pandas as pd\n",
    "\n",
    "# Creem un diccionari amb les dades, incloent la nova columna \"Telèfon\"\n",
    "data = {\n",
    "    'Nom': ['Joan Pérez', 'Anna Garcia', 'Marc López', 'Marta Sánchez', 'Lluís Costa', 'Laura Ruiz', 'Pau Vila', 'Carla Gómez', 'Jordi Fernández', 'Sofia Martín', \n",
    "            'Xavier Ruiz', 'Teresa Pérez', 'Diego Sánchez', 'Sandra Moreno', 'Raúl López', 'Julia Ruiz', 'Enric Soler', 'Clara García', 'Miquel Vila', 'Enrique Estudillos'],\n",
    "    'Edat': [30, 25, 40, 35, 50, 28, 22, 33, 44, 29, 37, 31, 45, 23, 32, 34, 38, 26, 41, 20],\n",
    "    'Ciutat': ['Barcelona', 'Madrid', 'València', 'Sevilla', 'Girona', 'Lleida', 'Tarragona', 'Barcelona', 'Madrid', 'València', 'Lleida', 'Sevilla', 'Girona', 'Barcelona', 'Tarragona', 'Lleida', 'Madrid', 'València', 'Girona', 'Barcelona'],\n",
    "    'Correu electrònic': ['joan.perez@email.com', 'anna.garcia@email.com', 'marc.lopez@email.com', 'marta.sanchez@email.com', 'lluis.costa@email.com', 'laura.ruiz@email.com', \n",
    "                          'pau.vila@email.com', 'carla.gomez@email.com', 'jordi.fernandez@email.com', 'sofia.martin@email.com', 'xavier.ruiz@email.com', 'teresa.perez@email.com',\n",
    "                          'diego.sanchez@email.com', 'sandra.moreno@email.com', 'raul.lopez@email.com', 'julia.ruiz@email.com', 'enric.soler@email.com', 'clara.garcia@email.com', 'miquel.vila@email.com', 'enrique.estudillos@email.com'],\n",
    "    'Data de naixement': ['1994-06-12', '1999-02-20', '1984-03-15', '1989-11-10', '1974-08-05', '1996-01-01', '2002-04-18', '1991-12-05', '1980-07-30', '1995-09-22', \n",
    "                          '1987-03-09', '1993-06-25', '1979-01-17', '2001-05-12', '1992-02-23', '1990-09-12', '1986-08-20', '1998-03-14', '1983-11-30', '2004-10-18'],\n",
    "    'Telèfon': ['678123456', '634567890', '612345678', '650987654', '666112233', '612344455', '609876543', '623456789', '647812345', '673456781',\n",
    "                '615678912', '677123456', '635478912', '666345678', '640123456', '623123456', '612987654', '678765432', '622345678', '637050571']\n",
    "}\n",
    "\n",
    "# Creem el DataFrame de pandas\n",
    "df = pd.DataFrame(data)\n",
    "\n",
    "# Guardem el DataFrame com a fitxer CSV\n",
    "df.to_csv('dades_persones_actualitzat.csv', index=False)\n",
    "\n",
    "# Llegim un fitxer CSV\n",
    "df = pd.read_csv('dades_persones_actualitzat.csv')\n",
    "\n",
    "# Visualitzem les primeres 5 files\n",
    "print(df)"
   ]
  },
  {
   "cell_type": "markdown",
   "id": "eb9992af-45a5-4331-b617-bbacffe305ab",
   "metadata": {},
   "source": [
    "# Ejercicio 5\n",
    "\n"
   ]
  },
  {
   "cell_type": "code",
   "execution_count": 9,
   "id": "5a994d27-916f-4db9-b7fe-5e60a4b8e46c",
   "metadata": {},
   "outputs": [
    {
     "name": "stdout",
     "output_type": "stream",
     "text": [
      "Edad media: 33.15\n",
      "Edad Minima: 20\n",
      "Edad Maxima: 50\n"
     ]
    }
   ],
   "source": [
    "import pandas as pd\n",
    "\n",
    "# Llegim un fitxer CSV\n",
    "df = pd.read_csv('dades_persones_actualitzat.csv')\n",
    "\n",
    "# Cálculo de la media y el rango de edades\n",
    "edad_media = df['Edat'].mean()\n",
    "edad_minima = df['Edat'].min()\n",
    "edad_maxima = df['Edat'].max()\n",
    "\n",
    "# Imprimir los resultados, asegurándonos de convertir los valores numéricos a cadenas\n",
    "print(\"Edad media: \" + str(edad_media))\n",
    "print(\"Edad Minima: \" + str(edad_minima))\n",
    "print(\"Edad Maxima: \" + str(edad_maxima))"
   ]
  },
  {
   "cell_type": "code",
   "execution_count": 13,
   "id": "a2b089d4-cc87-4a65-a1bd-5ecc414a733a",
   "metadata": {},
   "outputs": [
    {
     "name": "stdout",
     "output_type": "stream",
     "text": [
      "Informe generado exitosamente como PDF.\n"
     ]
    }
   ],
   "source": [
    "from reportlab.lib.pagesizes import letter\n",
    "from reportlab.pdfgen import canvas\n",
    "import pandas as pd\n",
    "\n",
    "# Llegim un fitxer CSV\n",
    "df = pd.read_csv('dades_persones_actualitzat.csv')\n",
    "\n",
    "# Cálculo de la media y el rango de edades\n",
    "edad_media = df['Edat'].mean()\n",
    "edad_minima = df['Edat'].min()\n",
    "edad_maxima = df['Edat'].max()\n",
    "\n",
    "# Contar las personas por ciudad\n",
    "ciudad_frecuencia = df['Ciutat'].value_counts()\n",
    "\n",
    "# Extraer el dominio del correo electrónico\n",
    "df['Dominio'] = df['Correu electrònic'].str.split('@').str[1]\n",
    "dominio_frecuencia = df['Dominio'].value_counts()\n",
    "\n",
    "# Visualización de los primeros 4 dígitos de los teléfonos\n",
    "df['Telèfon'] = df['Telèfon'].astype(str) \n",
    "df['Prefijo'] = df['Telèfon'].str[:4]\n",
    "prefijo_frecuencia = df['Prefijo'].value_counts()\n",
    "\n",
    "# Media de edad por ciudad\n",
    "edad_media_por_ciutat = df.groupby('Ciutat')['Edat'].mean()\n",
    "\n",
    "# Crear el PDF\n",
    "pdf_path = \"analisis_dades.pdf\"\n",
    "c = canvas.Canvas(pdf_path, pagesize=letter)\n",
    "width, height = letter\n",
    "\n",
    "# Títulos y textos\n",
    "c.setFont(\"Helvetica\", 12)\n",
    "\n",
    "# Título principal\n",
    "c.drawString(100, height - 40, \"Análisis de Datos: Informe de Personas\")\n",
    "\n",
    "# 1. Distribución de Edades\n",
    "c.setFont(\"Helvetica-Bold\", 14)\n",
    "c.drawString(100, height - 80, \"1. Distribución de Edades\")\n",
    "c.setFont(\"Helvetica\", 12)\n",
    "c.drawString(100, height - 100, f\"Edad media: {edad_media:.2f} años\")\n",
    "c.drawString(100, height - 120, f\"Edad mínima: {edad_minima} años\")\n",
    "c.drawString(100, height - 140, f\"Edad máxima: {edad_maxima} años\")\n",
    "\n",
    "# 2. Análisis de la Ciudad\n",
    "c.setFont(\"Helvetica-Bold\", 14)\n",
    "c.drawString(100, height - 180, \"2. Análisis de la Ciudad\")\n",
    "c.setFont(\"Helvetica\", 12)\n",
    "for i, (ciudad, frecuencia) in enumerate(ciudad_frecuencia.items(), start=1):\n",
    "    c.drawString(100, height - (180 + 20 * i), f\"{ciudad}: {frecuencia} personas\")\n",
    "\n",
    "# 3. Tendencia de Correo Electrónico\n",
    "c.setFont(\"Helvetica-Bold\", 14)\n",
    "c.drawString(100, height - (180 + 20 * len(ciudad_frecuencia)), \"3. Tendencia de Correo Electrónico\")\n",
    "c.setFont(\"Helvetica\", 12)\n",
    "for i, (dominio, frecuencia) in enumerate(dominio_frecuencia.items(), start=1):\n",
    "    c.drawString(100, height - (180 + 20 * (len(ciudad_frecuencia) + i)), f\"{dominio}: {frecuencia} correos\")\n",
    "\n",
    "# 4. Análisis de Teléfonos\n",
    "c.setFont(\"Helvetica-Bold\", 14)\n",
    "c.drawString(100, height - (180 + 20 * (len(ciudad_frecuencia) + len(dominio_frecuencia))), \"4. Análisis de Teléfonos\")\n",
    "c.setFont(\"Helvetica\", 12)\n",
    "for i, (prefijo, frecuencia) in enumerate(prefijo_frecuencia.items(), start=1):\n",
    "    c.drawString(100, height - (180 + 20 * (len(ciudad_frecuencia) + len(dominio_frecuencia) + i)), f\"{prefijo}: {frecuencia} números\")\n",
    "\n",
    "# 5. Comparación de Edad por Ciudad\n",
    "c.setFont(\"Helvetica-Bold\", 14)\n",
    "c.drawString(100, height - (180 + 20 * (len(ciudad_frecuencia) + len(dominio_frecuencia) + len(prefijo_frecuencia))), \"5. Comparación de Edad por Ciudad\")\n",
    "c.setFont(\"Helvetica\", 12)\n",
    "for i, (ciudad, edad_media_ciudad) in enumerate(edad_media_por_ciutat.items(), start=1):\n",
    "    c.drawString(100, height - (180 + 20 * (len(ciudad_frecuencia) + len(dominio_frecuencia) + len(prefijo_frecuencia) + i)), f\"{ciudad}: {edad_media_ciudad:.2f} años\")\n",
    "\n",
    "# Guardar el PDF\n",
    "c.save()\n",
    "\n",
    "print(\"Informe generado exitosamente como PDF.\")"
   ]
  },
  {
   "cell_type": "code",
   "execution_count": 17,
   "id": "52569258-79cd-4efd-93a2-0e65b4da9806",
   "metadata": {},
   "outputs": [
    {
     "name": "stdout",
     "output_type": "stream",
     "text": [
      "Informe generado exitosamente como PDF.\n"
     ]
    }
   ],
   "source": [
    "import pandas as pd\n",
    "import matplotlib.pyplot as plt\n",
    "from reportlab.lib.pagesizes import letter\n",
    "from reportlab.pdfgen import canvas\n",
    "from io import BytesIO\n",
    "import tempfile\n",
    "import os\n",
    "\n",
    "# Cargar el DataFrame desde un CSV\n",
    "df = pd.read_csv('dades_persones_actualitzat.csv')\n",
    "\n",
    "# Cálculo de la media y el rango de edades\n",
    "edad_media = df['Edat'].mean()\n",
    "edad_minima = df['Edat'].min()\n",
    "edad_maxima = df['Edat'].max()\n",
    "\n",
    "# Contar las personas por ciudad\n",
    "ciudad_frecuencia = df['Ciutat'].value_counts()\n",
    "\n",
    "# Extraer el dominio del correo electrónico\n",
    "df['Dominio'] = df['Correu electrònic'].str.split('@').str[1]\n",
    "dominio_frecuencia = df['Dominio'].value_counts()\n",
    "\n",
    "# Visualización de los primeros 4 dígitos de los teléfonos\n",
    "df['Telèfon'] = df['Telèfon'].astype(str) \n",
    "df['Prefijo'] = df['Telèfon'].str[:4]\n",
    "prefijo_frecuencia = df['Prefijo'].value_counts()\n",
    "\n",
    "# Media de edad por ciudad\n",
    "edad_media_por_ciutat = df.groupby('Ciutat')['Edat'].mean()\n",
    "\n",
    "# Crear el PDF\n",
    "pdf_path = \"analisis_dades.pdf\"\n",
    "c = canvas.Canvas(pdf_path, pagesize=letter)\n",
    "width, height = letter\n",
    "\n",
    "# Títulos y textos\n",
    "c.setFont(\"Helvetica\", 12)\n",
    "\n",
    "# Título principal\n",
    "c.drawString(100, height - 40, \"Análisis de Datos: Informe de Personas\")\n",
    "\n",
    "# 1. Distribución de Edades\n",
    "c.setFont(\"Helvetica-Bold\", 14)\n",
    "c.drawString(100, height - 80, \"1. Distribución de Edades\")\n",
    "c.setFont(\"Helvetica\", 12)\n",
    "c.drawString(100, height - 100, f\"Edad media: {edad_media:.2f} años\")\n",
    "c.drawString(100, height - 120, f\"Edad mínima: {edad_minima} años\")\n",
    "c.drawString(100, height - 140, f\"Edad máxima: {edad_maxima} años\")\n",
    "\n",
    "# Gráfico de distribución de edades\n",
    "plt.figure(figsize=(6, 4))\n",
    "df['Edat'].hist(bins=10, color='skyblue', edgecolor='black')\n",
    "plt.title('Distribución de Edades')\n",
    "plt.xlabel('Edad')\n",
    "plt.ylabel('Frecuencia')\n",
    "\n",
    "# Guardar gráfico en un archivo temporal\n",
    "with tempfile.NamedTemporaryFile(delete=False, suffix='.png') as temp_file:\n",
    "    temp_file_path = temp_file.name\n",
    "    plt.savefig(temp_file_path, format='png')\n",
    "    plt.close()  # Cerrar la figura\n",
    "\n",
    "# Incluir la imagen en el PDF\n",
    "c.drawImage(temp_file_path, 100, height - 350, width=400, height=300)\n",
    "\n",
    "# 2. Análisis de la Ciudad\n",
    "c.setFont(\"Helvetica-Bold\", 14)\n",
    "c.drawString(100, height - 400, \"2. Análisis de la Ciudad\")\n",
    "c.setFont(\"Helvetica\", 12)\n",
    "for i, (ciudad, frecuencia) in enumerate(ciudad_frecuencia.items(), start=1):\n",
    "    c.drawString(100, height - (420 + 20 * i), f\"{ciudad}: {frecuencia} personas\")\n",
    "\n",
    "# Gráfico de frecuencia de personas por ciudad\n",
    "plt.figure(figsize=(6, 4))\n",
    "ciudad_frecuencia.plot(kind='bar', color='lightcoral')\n",
    "plt.title('Frecuencia de Personas por Ciudad')\n",
    "plt.xlabel('Ciudad')\n",
    "plt.ylabel('Frecuencia')\n",
    "\n",
    "# Guardar gráfico en un archivo temporal\n",
    "with tempfile.NamedTemporaryFile(delete=False, suffix='.png') as temp_file:\n",
    "    temp_file_path = temp_file.name\n",
    "    plt.savefig(temp_file_path, format='png')\n",
    "    plt.close()\n",
    "\n",
    "# Incluir la imagen en el PDF\n",
    "c.drawImage(temp_file_path, 100, height - (400 + 20 * (len(ciudad_frecuencia) + 2)), width=400, height=300)\n",
    "\n",
    "# 3. Tendencia de Correo Electrónico\n",
    "c.setFont(\"Helvetica-Bold\", 14)\n",
    "c.drawString(100, height - (420 + 20 * (len(ciudad_frecuencia) + 2)), \"3. Tendencia de Correo Electrónico\")\n",
    "c.setFont(\"Helvetica\", 12)\n",
    "for i, (dominio, frecuencia) in enumerate(dominio_frecuencia.items(), start=1):\n",
    "    c.drawString(100, height - (440 + 20 * (len(ciudad_frecuencia) + 2 + i)), f\"{dominio}: {frecuencia} correos\")\n",
    "\n",
    "# 4. Análisis de Teléfonos\n",
    "c.setFont(\"Helvetica-Bold\", 14)\n",
    "c.drawString(100, height - (460 + 20 * (len(ciudad_frecuencia) + 2 + len(dominio_frecuencia))), \"4. Análisis de Teléfonos\")\n",
    "c.setFont(\"Helvetica\", 12)\n",
    "for i, (prefijo, frecuencia) in enumerate(prefijo_frecuencia.items(), start=1):\n",
    "    c.drawString(100, height - (480 + 20 * (len(ciudad_frecuencia) + 2 + len(dominio_frecuencia) + i)), f\"{prefijo}: {frecuencia} números\")\n",
    "\n",
    "# 5. Comparación de Edad por Ciudad\n",
    "c.setFont(\"Helvetica-Bold\", 14)\n",
    "c.drawString(100, height - (500 + 20 * (len(ciudad_frecuencia) + 2 + len(dominio_frecuencia) + len(prefijo_frecuencia))), \"5. Comparación de Edad por Ciudad\")\n",
    "c.setFont(\"Helvetica\", 12)\n",
    "for i, (ciudad, edad_media_ciudad) in enumerate(edad_media_por_ciutat.items(), start=1):\n",
    "    c.drawString(100, height - (520 + 20 * (len(ciudad_frecuencia) + 2 + len(dominio_frecuencia) + len(prefijo_frecuencia) + i)), f\"{ciudad}: {edad_media_ciudad:.2f} años\")\n",
    "\n",
    "# Eliminar el archivo temporal después de usarlo\n",
    "os.remove(temp_file_path)\n",
    "\n",
    "# Guardar el PDF\n",
    "c.save()\n",
    "\n",
    "print(\"Informe generado exitosamente como PDF.\")"
   ]
  },
  {
   "cell_type": "code",
   "execution_count": null,
   "id": "ea072cd0-e3f7-4baa-90dc-f529be89037b",
   "metadata": {},
   "outputs": [],
   "source": []
  }
 ],
 "metadata": {
  "kernelspec": {
   "display_name": "Python 3 (ipykernel)",
   "language": "python",
   "name": "python3"
  },
  "language_info": {
   "codemirror_mode": {
    "name": "ipython",
    "version": 3
   },
   "file_extension": ".py",
   "mimetype": "text/x-python",
   "name": "python",
   "nbconvert_exporter": "python",
   "pygments_lexer": "ipython3",
   "version": "3.12.1"
  }
 },
 "nbformat": 4,
 "nbformat_minor": 5
}
